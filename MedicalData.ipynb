{
  "nbformat": 4,
  "nbformat_minor": 0,
  "metadata": {
    "colab": {
      "provenance": []
    },
    "kernelspec": {
      "name": "python3",
      "display_name": "Python 3"
    },
    "language_info": {
      "name": "python"
    }
  },
  "cells": [
    {
      "cell_type": "markdown",
      "source": [
        "# Medical Data Visualizer"
      ],
      "metadata": {
        "id": "Y988AdWK0dpi"
      }
    },
    {
      "cell_type": "code",
      "execution_count": null,
      "metadata": {
        "id": "8EjsZcZi0bL6"
      },
      "outputs": [],
      "source": [
        "import pandas as pd\n",
        "import seaborn as sns\n",
        "import matplotlib.pyplot as plt\n",
        "import numpy as np\n",
        "\n",
        "# Import data\n",
        "df = pd.read_csv('medical_examination.csv')\n",
        "\n",
        "# Add 'overweight' column\n",
        "df['overweight'] = ((df['weight'] / (df['height'] / 100) ** 2) > 25).astype(int)\n",
        "\n",
        "# Normalize cholesterol and gluc columns\n",
        "df['cholesterol'] = (df['cholesterol'] > 1).astype(int)\n",
        "df['gluc'] = (df['gluc'] > 1).astype(int)\n",
        "\n",
        "# Draw Categorical Plot\n",
        "def draw_cat_plot():\n",
        "    # Create DataFrame for cat plot using `pd.melt`\n",
        "    df_cat = pd.melt(\n",
        "        df,\n",
        "        id_vars=['cardio'],\n",
        "        value_vars=['cholesterol', 'gluc', 'smoke', 'alco', 'active', 'overweight']\n",
        "    )\n",
        "\n",
        "    # Group and reformat the data\n",
        "    df_cat = (\n",
        "        df_cat\n",
        "        .groupby(['cardio', 'variable', 'value'])\n",
        "        .size()\n",
        "        .reset_index(name='total')\n",
        "    )\n",
        "\n",
        "    # Draw the catplot\n",
        "    fig = sns.catplot(\n",
        "        data=df_cat,\n",
        "        x='variable',\n",
        "        y='total',\n",
        "        hue='value',\n",
        "        col='cardio',\n",
        "        kind='bar',\n",
        "        height=5,\n",
        "        aspect=1\n",
        "    ).fig\n",
        "\n",
        "    return fig\n",
        "\n",
        "# Draw Heat Map\n",
        "def draw_heat_map():\n",
        "    # Clean the data\n",
        "    df_heat = df[\n",
        "        (df['ap_lo'] <= df['ap_hi']) &\n",
        "        (df['height'] >= df['height'].quantile(0.025)) &\n",
        "        (df['height'] <= df['height'].quantile(0.975)) &\n",
        "        (df['weight'] >= df['weight'].quantile(0.025)) &\n",
        "        (df['weight'] <= df['weight'].quantile(0.975))\n",
        "    ]\n",
        "\n",
        "    # Calculate the correlation matrix\n",
        "    corr = df_heat.corr()\n",
        "\n",
        "    # Generate a mask for the upper triangle\n",
        "    mask = np.triu(np.ones_like(corr, dtype=bool))\n",
        "\n",
        "    # Set up the matplotlib figure\n",
        "    fig, ax = plt.subplots(figsize=(12, 8))\n",
        "\n",
        "    # Draw the heatmap\n",
        "    sns.heatmap(\n",
        "        corr,\n",
        "        mask=mask,\n",
        "        annot=True,\n",
        "        fmt='.1f',\n",
        "        cmap='coolwarm',\n",
        "        vmax=0.3,\n",
        "        vmin=-0.1,\n",
        "        linewidths=0.5,\n",
        "        ax=ax\n",
        "    )\n",
        "\n",
        "    return fig\n",
        "\n",
        "# Execute functions (optional, to see results directly)\n",
        "cat_plot_figure = draw_cat_plot()\n",
        "heat_map_figure = draw_heat_map()\n",
        "\n",
        "# To display the plots if running in a notebook or script\n",
        "plt.show()\n"
      ]
    }
  ]
}